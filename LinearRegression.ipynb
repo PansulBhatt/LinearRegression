{
 "cells": [
  {
   "cell_type": "markdown",
   "metadata": {},
   "source": [
    "# Homework 1 - Linear Regression\n",
    "In this homework<br/>\n",
    "-you will be implementing simple linear regression and multiple linear regression<br/>\n",
    "-you will compute R2 and Adjusted R2 scores<br/>\n",
    "You will use linear regression for predicting an outcome as well as determining relevant predictors.<br/>\n",
    "\n",
    "## Scenario\n",
    "\n",
    "Assume you are working as a consultant/analyst at a firm, you are given a dataset containing profit and expenditure information of startups. Your job is to perform simple linear regression and multiple linear regression to predict the profit of the startup and find out the most relevant predictor or combination of predictors in predicting the profit.<br/> \n",
    "\n",
    "## Dataset\n",
    "The dataset you will be using is the \"Startup Dataset\". Use the following link to download the csv file of the dataset:<br/>\n",
    "https://www.kaggle.com/harsh45/startups-dataset<br/>\n",
    "The dataset has 50 rows and 5 columns. <br/>\n",
    "The data represents the profit made by startups in 3 US states. Each row stands for a startup and has information on the expenditure of the startup (R&D spend, Administration, Marketing Spend) and state of the startup.\n",
    "\n"
   ]
  },
  {
   "cell_type": "code",
   "execution_count": 1,
   "metadata": {},
   "outputs": [],
   "source": [
    "import csv\n",
    "import numpy as np\n",
    "import pandas as pd\n",
    "import matplotlib.pyplot as plt\n",
    "import seaborn as sns\n",
    "from sklearn.linear_model import LinearRegression \n",
    "%matplotlib inline  "
   ]
  },
  {
   "cell_type": "markdown",
   "metadata": {},
   "source": [
    "Download the dataset from the link provided and change the path of the dataset accordingly below."
   ]
  },
  {
   "cell_type": "code",
   "execution_count": 2,
   "metadata": {},
   "outputs": [
    {
     "data": {
      "text/html": [
       "<div>\n",
       "<style scoped>\n",
       "    .dataframe tbody tr th:only-of-type {\n",
       "        vertical-align: middle;\n",
       "    }\n",
       "\n",
       "    .dataframe tbody tr th {\n",
       "        vertical-align: top;\n",
       "    }\n",
       "\n",
       "    .dataframe thead th {\n",
       "        text-align: right;\n",
       "    }\n",
       "</style>\n",
       "<table border=\"1\" class=\"dataframe\">\n",
       "  <thead>\n",
       "    <tr style=\"text-align: right;\">\n",
       "      <th></th>\n",
       "      <th>R&amp;D Spend</th>\n",
       "      <th>Administration</th>\n",
       "      <th>Marketing Spend</th>\n",
       "      <th>State</th>\n",
       "      <th>Profit</th>\n",
       "    </tr>\n",
       "  </thead>\n",
       "  <tbody>\n",
       "    <tr>\n",
       "      <td>0</td>\n",
       "      <td>165349.20</td>\n",
       "      <td>136897.80</td>\n",
       "      <td>471784.10</td>\n",
       "      <td>New York</td>\n",
       "      <td>192261.83</td>\n",
       "    </tr>\n",
       "    <tr>\n",
       "      <td>1</td>\n",
       "      <td>162597.70</td>\n",
       "      <td>151377.59</td>\n",
       "      <td>443898.53</td>\n",
       "      <td>California</td>\n",
       "      <td>191792.06</td>\n",
       "    </tr>\n",
       "    <tr>\n",
       "      <td>2</td>\n",
       "      <td>153441.51</td>\n",
       "      <td>101145.55</td>\n",
       "      <td>407934.54</td>\n",
       "      <td>Florida</td>\n",
       "      <td>191050.39</td>\n",
       "    </tr>\n",
       "    <tr>\n",
       "      <td>3</td>\n",
       "      <td>144372.41</td>\n",
       "      <td>118671.85</td>\n",
       "      <td>383199.62</td>\n",
       "      <td>New York</td>\n",
       "      <td>182901.99</td>\n",
       "    </tr>\n",
       "    <tr>\n",
       "      <td>4</td>\n",
       "      <td>142107.34</td>\n",
       "      <td>91391.77</td>\n",
       "      <td>366168.42</td>\n",
       "      <td>Florida</td>\n",
       "      <td>166187.94</td>\n",
       "    </tr>\n",
       "  </tbody>\n",
       "</table>\n",
       "</div>"
      ],
      "text/plain": [
       "   R&D Spend  Administration  Marketing Spend       State     Profit\n",
       "0  165349.20       136897.80        471784.10    New York  192261.83\n",
       "1  162597.70       151377.59        443898.53  California  191792.06\n",
       "2  153441.51       101145.55        407934.54     Florida  191050.39\n",
       "3  144372.41       118671.85        383199.62    New York  182901.99\n",
       "4  142107.34        91391.77        366168.42     Florida  166187.94"
      ]
     },
     "execution_count": 2,
     "metadata": {},
     "output_type": "execute_result"
    }
   ],
   "source": [
    "dataset_path = \"50_Startups.csv\" # insert the path of the csv\n",
    "df = pd.read_csv(dataset_path)\n",
    "df.head()"
   ]
  },
  {
   "cell_type": "markdown",
   "metadata": {},
   "source": [
    "## Data Exploration\n",
    "We can plot a histogram of the dataframe to understand the distributions of the continuous values.<br/>\n"
   ]
  },
  {
   "cell_type": "code",
   "execution_count": 3,
   "metadata": {},
   "outputs": [
    {
     "data": {
      "text/plain": [
       "array([[<matplotlib.axes._subplots.AxesSubplot object at 0x0000029B59ED4080>,\n",
       "        <matplotlib.axes._subplots.AxesSubplot object at 0x0000029B59F1E5F8>],\n",
       "       [<matplotlib.axes._subplots.AxesSubplot object at 0x0000029B59F50BA8>,\n",
       "        <matplotlib.axes._subplots.AxesSubplot object at 0x0000029B59F92198>]],\n",
       "      dtype=object)"
      ]
     },
     "execution_count": 3,
     "metadata": {},
     "output_type": "execute_result"
    },
    {
     "data": {
      "image/png": "[encoded data removed]",
      "text/plain": [
       "<Figure size 432x288 with 4 Axes>"
      ]
     },
     "metadata": {
      "needs_background": "light"
     },
     "output_type": "display_data"
    }
   ],
   "source": [
    "### WRITE CODE TO OBTAIN AND DISPLAY HISTOGRAMS ###\n",
    "df.hist(bins=5)"
   ]
  },
  {
   "cell_type": "markdown",
   "metadata": {},
   "source": [
    "Q1. What can you infer from the histograms? <br/>\n",
    "Ans- We don't have a normal distribution"
   ]
  },
  {
   "cell_type": "markdown",
   "metadata": {},
   "source": [
    "Compute the correlation matrix to get an understanding of the correlation between profit and different kinds of expenditure.<br/>\n",
    "\n"
   ]
  },
  {
   "cell_type": "code",
   "execution_count": 4,
   "metadata": {},
   "outputs": [
    {
     "name": "stdout",
     "output_type": "stream",
     "text": [
      "                 R&D Spend  Administration  Marketing Spend    Profit\n",
      "R&D Spend         1.000000        0.241955         0.724248  0.972900\n",
      "Administration    0.241955        1.000000        -0.032154  0.200717\n",
      "Marketing Spend   0.724248       -0.032154         1.000000  0.747766\n",
      "Profit            0.972900        0.200717         0.747766  1.000000\n"
     ]
    },
    {
     "data": {
      "text/plain": [
       "<matplotlib.axes._subplots.AxesSubplot at 0x29b5a08d5c0>"
      ]
     },
     "execution_count": 4,
     "metadata": {},
     "output_type": "execute_result"
    },
    {
     "data": {
      "image/png": "[encoded data removed]",
      "text/plain": [
       "<Figure size 432x288 with 2 Axes>"
      ]
     },
     "metadata": {
      "needs_background": "light"
     },
     "output_type": "display_data"
    }
   ],
   "source": [
    "### WRITE CODE TO OBTAIN AND DISPLAY CORRELATION MATRIX ###\n",
    "# calculating the correlation matrix\n",
    "corr = df.corr()\n",
    "\n",
    "print(corr)\n",
    "\n",
    "# plot the heatmap\n",
    "sns.heatmap(corr, \n",
    "        xticklabels=corr.columns,\n",
    "        yticklabels=corr.columns)"
   ]
  },
  {
   "cell_type": "markdown",
   "metadata": {},
   "source": [
    "Answer the following questions:<br/>\n",
    "\n",
    "Q2. Why is the diagonal made up of 1's in the correlation matrix?<br/>\n",
    "Ans - Diagonals represent the same features thus, the correlation would always be 1 since they are the same thing.\n",
    "\n",
    "Q3. Why is the matrix symmetric along diagonal?<br/>\n",
    "Ans - The matrix is symmetrical as we are using the same correlations where the only difference is that i and j are flipped.\n",
    "\n",
    "Q4. Looking at the correlation matrix, if you have to choose one predictor for a simple linear regression model with profit as the outcome, which one would you choose and why? <br/>\n",
    "Ans - R & D Spend as that has the maximum correlation with profit.\n"
   ]
  },
  {
   "cell_type": "markdown",
   "metadata": {},
   "source": [
    "## Simple Linear Regression\n",
    "\n",
    "Simple linear regression describes the case where we have a single predictor and a single outcome. We are interested in finding the \"line of best fit\" for the data. There are two constraints that guide us to the simple linear regression solution:\n",
    "\n",
    "1. \"line\": characterized by a slope and intercept\n",
    "2. \"best fit\": Minimizes the sum of squares and passes through the mean.\n",
    "\n",
    "More formally, given some set of points (X, Y), we want to find a line of the form <br/>\n",
    "$y = \\beta_1 x + \\beta_0$<br/>\n",
    "\n",
    "That minimizes <br/>\n",
    "$\\sum(y-\\hat{y})^2$<br/>\n",
    "\n",
    "Through a bit of algebra, we find:<br/>\n",
    "$\\hat{\\beta_1} = \\dfrac{\\sum((x_i-\\bar{x})(y_i-\\bar{y}))}{\\sum(x_i - \\bar{x})^2}$<br/>\n",
    "$\\hat{\\beta_0} = \\bar{y} - \\hat{\\beta_1}\\bar{x}$<br/>\n",
    "\n",
    "Please use base python to implement simple_linear_regression() in regression_utils.py<br/>\n",
    "Perform simple linear regression on the dataset with profit as the outcome. Use the predictor you chose in Q4."
   ]
  },
  {
   "cell_type": "code",
   "execution_count": 5,
   "metadata": {},
   "outputs": [],
   "source": [
    "from regression_utils import simple_linear_regression"
   ]
  },
  {
   "cell_type": "code",
   "execution_count": 6,
   "metadata": {},
   "outputs": [
    {
     "data": {
      "text/plain": [
       "array([0.85429137])"
      ]
     },
     "execution_count": 6,
     "metadata": {},
     "output_type": "execute_result"
    }
   ],
   "source": [
    "### BELOW ENTER THE NAME OF THE COULMN YOU CHOSE AS A PREDICTOR IN Q4\n",
    "x1 = df[\"R&D Spend\"].values.reshape(-1,1) \n",
    "y1 = df[\"Profit\"].values\n",
    "b1, b0 = simple_linear_regression(x1, y1)\n",
    "reg = LinearRegression().fit(x1, y1)\n",
    "reg.coef_"
   ]
  },
  {
   "cell_type": "markdown",
   "metadata": {},
   "source": [
    "Q5. Print the slope and the intercept obtained"
   ]
  },
  {
   "cell_type": "code",
   "execution_count": 7,
   "metadata": {},
   "outputs": [
    {
     "name": "stdout",
     "output_type": "stream",
     "text": [
      "Slope(b1) = 0.8542913709388088\n",
      "Intercept(b0) = 49032.89914125214\n"
     ]
    }
   ],
   "source": [
    "print(\"Slope(b1) = \" + str(b1))\n",
    "print(\"Intercept(b0) = \" + str(b0))"
   ]
  },
  {
   "cell_type": "markdown",
   "metadata": {},
   "source": [
    "### Prediction"
   ]
  },
  {
   "cell_type": "markdown",
   "metadata": {},
   "source": [
    "Using a model that has R&D Spend as the predictor and Profit as the outcome, make the following predictions.\n",
    "(If you have already implemented the model with R&D as the predictor in the previous question, you don't need to rewrite it. Use the model to make predcitions.)"
   ]
  },
  {
   "cell_type": "code",
   "execution_count": 8,
   "metadata": {},
   "outputs": [
    {
     "data": {
      "text/plain": [
       "array([ 91747.46768819, 113104.75196166, 134462.03623513, 219891.17332901])"
      ]
     },
     "execution_count": 8,
     "metadata": {},
     "output_type": "execute_result"
    }
   ],
   "source": [
    "reg.predict(np.array([[50000], [75000], [100000], [200000]]))"
   ]
  },
  {
   "cell_type": "code",
   "execution_count": 9,
   "metadata": {},
   "outputs": [
    {
     "name": "stdout",
     "output_type": "stream",
     "text": [
      "91747.46768819258\n",
      "113104.75196166281\n",
      "134462.036235133\n",
      "219891.17332901392\n"
     ]
    }
   ],
   "source": [
    "### CODE FOR THE MODEL AND PREDICTIONS\n",
    "rnd_expenditures_for_prediction = [50000, 75000, 100000, 200000]\n",
    "for rnd in rnd_expenditures_for_prediction:\n",
    "    print(b0 + b1*rnd)"
   ]
  },
  {
   "cell_type": "markdown",
   "metadata": {},
   "source": [
    "Q6. For a company that spends 50k on R&D Spend, what would be the profit?<br/>\n",
    "Ans- 91747.46768819258\n",
    "\n",
    "Q7. For a company that spends 75k on R&D Spend, what would be the profit?<br/>\n",
    "Ans- 113104.75196166281\n",
    "\n",
    "Q8. For a company that spends 100k on R&D Spend, what would be the profit?<br/>\n",
    "Ans- 134462.036235133\n",
    "\n",
    "Q9. For a company that spends 200k on R&D Spend, what would be the profit?<br/>\n",
    "Ans- 219891.17332901392\n"
   ]
  },
  {
   "cell_type": "markdown",
   "metadata": {},
   "source": [
    "### Standardization of features"
   ]
  },
  {
   "cell_type": "markdown",
   "metadata": {},
   "source": [
    "Feature standardization makes the values of each feature in the data have zero-mean and unit-variance. This method is widely used for normalization in many machine learning algorithms. The general method of calculation is to determine the distribution mean and standard deviation for each feature. Next we subtract the mean from each feature. Then we divide the values of each feature by its standard deviation.\n",
    "\n",
    "$x'$ = ($x$ - $\\bar{x}$)/$\\sigma$ \n",
    "\n",
    "where $x$ is the original feature vector,\n",
    "$\\bar{x}$ is the mean of the feature vector and\n",
    "$\\sigma$ is its standard deviation.\n",
    "\n",
    "This is also called Z-score Normalization. \n",
    "\n",
    "Note down the results after performing Z-score Normalization on R&D feature.\n"
   ]
  },
  {
   "cell_type": "code",
   "execution_count": 10,
   "metadata": {},
   "outputs": [
    {
     "data": {
      "text/plain": [
       "array([38819.78205266])"
      ]
     },
     "execution_count": 10,
     "metadata": {},
     "output_type": "execute_result"
    }
   ],
   "source": [
    "from sklearn.preprocessing import StandardScaler\n",
    "x1 = df[\"R&D Spend\"].values.reshape(-1,1)\n",
    "scaler = StandardScaler()\n",
    "x1 = scaler.fit_transform(x1)\n",
    "y1 = df[\"Profit\"].values\n",
    "b1, b0 = simple_linear_regression(x1, y1)\n",
    "reg = LinearRegression().fit(x1, y1)\n",
    "reg.coef_"
   ]
  },
  {
   "cell_type": "markdown",
   "metadata": {},
   "source": [
    "Q10. Print the slope and the intercept obtained"
   ]
  },
  {
   "cell_type": "code",
   "execution_count": 11,
   "metadata": {},
   "outputs": [
    {
     "name": "stdout",
     "output_type": "stream",
     "text": [
      "Slope(b1) = 38819.782052658564\n",
      "Intercept(b0) = 112012.63920000002\n"
     ]
    }
   ],
   "source": [
    "print(\"Slope(b1) = \" + str(b1))\n",
    "print(\"Intercept(b0) = \" + str(b0))"
   ]
  },
  {
   "cell_type": "markdown",
   "metadata": {},
   "source": [
    "Q11. What are the advantages and disadvantages of using Z-score Normalization?<br/>\n",
    "Ans- The advantage of Z-score normalization is that when we apply it to our numeric dataset it converts the values into a normal distribution where the mean is 0 and variance is 1. This allows our model to handle different data with different units and allows our model to avoid underfitting. The disadvantage of using this approach is that if its not possible for us to get a normal distribution, the scores cannot be interpreted properly.\n",
    "\n",
    "Q12. In this dataset, do you need to use the Z-score Normalization? Explain.<br/>\n",
    "Ans- Yes, we do need normalization as if we see our dataset plot before, we can deduce that our features are not distributed."
   ]
  },
  {
   "cell_type": "markdown",
   "metadata": {},
   "source": [
    "## Multiple Linear Regression\n",
    "\n",
    "In the big data era, it is highly unlikely that we are interested in the effect of a single variable on another. To simultaneously account for the effects of multiple variables, we use multiple regression (which accounts for the covariances between predictors).\n",
    "\n",
    "While the algorithmic solution to multiple regression exists, it is easier to conceptualize in terms of linear algebra. The optimal $\\hat{\\beta}$ vector that minimizes the residual sum of squares is:\n",
    "\n",
    "$\\hat{\\beta} = (X^TX)^{-1}X^Ty $\n",
    "\n",
    "\n",
    "Perform multiple linear regression on the dataset with predictors as R&D Spend, Administration, Marketing Spend, State and outcome as Profit.\n",
    "\n",
    "R&D Spend, Administration and Marketing Spend are continuous values whereas State contains discrete values. State can only take on the values New York, California or Florida. We need to perform one-hot encoding on State values for it to be processed in the model. One hot encoding is a process by which categorical variables are converted into a form that could be provided to ML algorithms to do a better job in prediction. The code for performing one-hot encoding is provided below. \n",
    "\n",
    "Please use numpy to implement multiple_regression() in regression_utils.py and use it below.\n"
   ]
  },
  {
   "cell_type": "code",
   "execution_count": 12,
   "metadata": {},
   "outputs": [],
   "source": [
    "from regression_utils import multiple_regression"
   ]
  },
  {
   "cell_type": "code",
   "execution_count": 13,
   "metadata": {},
   "outputs": [
    {
     "data": {
      "text/plain": [
       "array([ 0.00000000e+00,  8.06023114e-01, -2.70043196e-02,  2.69798610e-02,\n",
       "       -5.23005912e+01,  1.46488202e+02, -9.41876104e+01])"
      ]
     },
     "execution_count": 13,
     "metadata": {},
     "output_type": "execute_result"
    }
   ],
   "source": [
    "x2 = df[[\"R&D Spend\",\"Administration\",\"Marketing Spend\"]]\n",
    "one_hot = pd.get_dummies(df[[\"State\"]])\n",
    "x2 = pd.concat([x2,one_hot],axis=1)\n",
    "\n",
    "y2 = df[\"Profit\"].values\n",
    "bhat = multiple_regression(x2, y2)\n",
    "\n",
    "reg = LinearRegression().fit(x2, y2)\n",
    "reg.coef_\n"
   ]
  },
  {
   "cell_type": "markdown",
   "metadata": {},
   "source": [
    "Q13. Print the value of bhat"
   ]
  },
  {
   "cell_type": "code",
   "execution_count": 14,
   "metadata": {},
   "outputs": [
    {
     "name": "stdout",
     "output_type": "stream",
     "text": [
      "[ 3.76332333e+04  8.06023114e-01 -2.70043195e-02  2.69798610e-02\n",
      "  1.24921105e+04  1.26908993e+04  1.24502235e+04]\n"
     ]
    }
   ],
   "source": [
    "print(bhat)"
   ]
  },
  {
   "cell_type": "markdown",
   "metadata": {},
   "source": [
    "Q14. Is there a problem of multicolinearity? Explain what you can do<br/>\n",
    "Ans- There is multicolineraity as the values are pretty similar. We can perform dimension reduction and remove the values that are correlated."
   ]
  },
  {
   "cell_type": "markdown",
   "metadata": {},
   "source": [
    "### Goodness of fit\n",
    "\n",
    "A model can always make predictions. But it is important to determine how good the model is.\n",
    "How do we know that our model captures the data well? When evaluating model fit, a good metric is $R^2$, which corresponds to the amount of variance explained by the model. The formula for $R^2$ is the following:\n",
    "\n",
    "$R^2$ = $1 - \\dfrac{RSS}{TSS}$<br/>\n",
    "where:<br/>\n",
    "$RSS = \\Sigma(y - \\hat{y})^2$<br/>\n",
    "$TSS = \\Sigma(y - \\bar{y})^2$<br/>\n",
    "\n",
    "$R^2$ is also one metric for comparing models against each other. It is intuitive to say that the model that explains more variation in the data is a better fit than one that explains less variation. Implement calculate_r2() in regression_utils.py and then run the cells below.\n",
    "\n",
    "Consider 4 Simple Linear Regression models using the 4 predictors and compute R2 for each to compare the models.\n",
    "\n",
    "Fill in the code for calculation of R2 score in calculate_r2 in regression_utils.py"
   ]
  },
  {
   "cell_type": "code",
   "execution_count": 15,
   "metadata": {},
   "outputs": [],
   "source": [
    "from regression_utils import calculate_r2, predict\n",
    "from sklearn.metrics import r2_score"
   ]
  },
  {
   "cell_type": "code",
   "execution_count": 16,
   "metadata": {},
   "outputs": [],
   "source": [
    "from typing import List\n",
    "\n",
    "class LinearReg:\n",
    "    \"\"\"\n",
    "    Linear regression utility class which is going to be used for\n",
    "    understanding / predicting the variables based on the data-set\n",
    "    \"\"\"\n",
    "    def __init__(self, df: pd.DataFrame, columns: List):\n",
    "        \"\"\"\n",
    "        Instantiate the object's attributes.\n",
    "        \"\"\"\n",
    "        self.df = df.copy(deep=True)\n",
    "        self.columns = columns\n",
    "        self.target = df[\"Profit\"].values\n",
    "        self.beta_dict = {}\n",
    "    \n",
    "    def predict_util(self):\n",
    "        \"\"\"\n",
    "        This function would allow us to implement the mathematical formulation to implement\n",
    "        linear regression.\n",
    "        \"\"\"\n",
    "        b_coeff = [self.beta_dict[column] for column in self.columns]\n",
    "        if 'B0' not in b_coeff:\n",
    "            b_coeff.insert(0, self.beta_dict['B0'])\n",
    "        return predict(self.df[self.columns], b_coeff)\n",
    "    \n",
    "\n",
    "    def fetch_multiple_linear_regression_coeff(self):\n",
    "        \"\"\"\n",
    "        This function allows us to understand how we need to handle the columns which\n",
    "        are categorical and which are not. After applying the necessary transformations,\n",
    "        it is able to fetch the beta values which can be used for predicting the variables.\n",
    "        \"\"\"\n",
    "        temp_df = self.df[self.columns].copy()\n",
    "        categorical_df = temp_df.select_dtypes(include=['object'])\n",
    "        temp_df = temp_df.select_dtypes(exclude=['object'])\n",
    "\n",
    "        if (not(categorical_df.empty)):\n",
    "            one_hot = pd.get_dummies(categorical_df)\n",
    "            self.df = pd.concat([temp_df, one_hot], axis=1)\n",
    "            self.columns = self.df.columns\n",
    "        else:\n",
    "            self.df = temp_df\n",
    "\n",
    "        bhat = multiple_regression(self.df, self.target)\n",
    "        self.beta_dict = dict(zip(self.df.columns, bhat))\n",
    "\n",
    "    def compute_r2_score(self) -> float:\n",
    "        \"\"\"\n",
    "        This function is our main utility function which fetches all the coeffecients from\n",
    "        our variables and applies them to make predictions. It then calls the calculate_r2 method\n",
    "        which applies the mathematical formulas.\n",
    "        \"\"\"\n",
    "        self.fetch_multiple_linear_regression_coeff()\n",
    "        yhat = self.predict_util()\n",
    "        return calculate_r2(self.target, yhat)\n",
    "    \n",
    "    def compute_adjusted_r2_score(self) -> float:\n",
    "        \"\"\"\n",
    "        This function is our main utility function which fetches all the coeffecients from\n",
    "        our variables and applies them to make predictions. It then calls the calculate_adjusted_r2 method\n",
    "        which applies the mathematical formulas.\n",
    "        \"\"\"\n",
    "        self.fetch_multiple_linear_regression_coeff()\n",
    "        yhat = self.predict_util()\n",
    "        return calculate_adjusted_r2(self.target, yhat, len(self.columns))\n",
    "\n"
   ]
  },
  {
   "cell_type": "markdown",
   "metadata": {},
   "source": [
    "#### R2 score for model with \"R&D Spend\" as predictor and \"Profit\" as outcome"
   ]
  },
  {
   "cell_type": "code",
   "execution_count": 17,
   "metadata": {},
   "outputs": [
    {
     "data": {
      "text/plain": [
       "0.9465353160804393"
      ]
     },
     "execution_count": 17,
     "metadata": {},
     "output_type": "execute_result"
    }
   ],
   "source": [
    "LinearReg(df, ['R&D Spend']).compute_r2_score()"
   ]
  },
  {
   "cell_type": "markdown",
   "metadata": {},
   "source": [
    "#### R2 score for model with \"Marketing Spend\" as predictor and \"Profit\" as outcome"
   ]
  },
  {
   "cell_type": "code",
   "execution_count": 18,
   "metadata": {},
   "outputs": [
    {
     "data": {
      "text/plain": [
       "0.5591535746115515"
      ]
     },
     "execution_count": 18,
     "metadata": {},
     "output_type": "execute_result"
    }
   ],
   "source": [
    "LinearReg(df, ['Marketing Spend']).compute_r2_score()"
   ]
  },
  {
   "cell_type": "markdown",
   "metadata": {},
   "source": [
    "#### R2 score for model with \"Administration\" as predictor and \"Profit\" as outcome"
   ]
  },
  {
   "cell_type": "code",
   "execution_count": 19,
   "metadata": {},
   "outputs": [
    {
     "data": {
      "text/plain": [
       "0.6097229746770663"
      ]
     },
     "execution_count": 19,
     "metadata": {},
     "output_type": "execute_result"
    }
   ],
   "source": [
    "LinearReg(df, ['Administration', 'Marketing Spend']).compute_r2_score()"
   ]
  },
  {
   "cell_type": "markdown",
   "metadata": {},
   "source": [
    "#### R2 score for model with \"State\" as predictor and \"Profit\" as outcome"
   ]
  },
  {
   "cell_type": "code",
   "execution_count": 20,
   "metadata": {},
   "outputs": [
    {
     "data": {
      "text/plain": [
       "0.023875218249123975"
      ]
     },
     "execution_count": 20,
     "metadata": {},
     "output_type": "execute_result"
    }
   ],
   "source": [
    "LinearReg(df, ['State']).compute_r2_score()"
   ]
  },
  {
   "cell_type": "markdown",
   "metadata": {},
   "source": [
    "Now, add features one by one and compute R2 score of different models"
   ]
  },
  {
   "cell_type": "markdown",
   "metadata": {},
   "source": [
    "#### R2 score for model with \"R&D Spend\" as predictor and \"Profit\" as outcome"
   ]
  },
  {
   "cell_type": "code",
   "execution_count": 21,
   "metadata": {},
   "outputs": [
    {
     "data": {
      "text/plain": [
       "0.9465353160804393"
      ]
     },
     "execution_count": 21,
     "metadata": {},
     "output_type": "execute_result"
    }
   ],
   "source": [
    "LinearReg(df, ['R&D Spend']).compute_r2_score()"
   ]
  },
  {
   "cell_type": "markdown",
   "metadata": {},
   "source": [
    "#### R2 score for model with \"R&D Spend\",\"Marketing Spend\" as predictors and \"Profit\" as outcome"
   ]
  },
  {
   "cell_type": "code",
   "execution_count": 22,
   "metadata": {},
   "outputs": [
    {
     "data": {
      "text/plain": [
       "0.9504503015559763"
      ]
     },
     "execution_count": 22,
     "metadata": {},
     "output_type": "execute_result"
    }
   ],
   "source": [
    "LinearReg(df, ['R&D Spend', 'Marketing Spend']).compute_r2_score()"
   ]
  },
  {
   "cell_type": "markdown",
   "metadata": {},
   "source": [
    "#### R2 score for model with \"R&D Spend\",\"Marketing Spend\",\"Administration\" as predictors and \"Profit\" as outcome"
   ]
  },
  {
   "cell_type": "code",
   "execution_count": 23,
   "metadata": {},
   "outputs": [
    {
     "data": {
      "text/plain": [
       "0.9507459940683246"
      ]
     },
     "execution_count": 23,
     "metadata": {},
     "output_type": "execute_result"
    }
   ],
   "source": [
    "LinearReg(df, ['R&D Spend', 'Marketing Spend', 'Administration']).compute_r2_score()"
   ]
  },
  {
   "cell_type": "markdown",
   "metadata": {},
   "source": [
    "#### R2 score for model with \"R&D Spend\",\"Marketing Spend\",\"Administration\",\"State\" as predictors and \"Profit\" as outcome"
   ]
  },
  {
   "cell_type": "code",
   "execution_count": 24,
   "metadata": {},
   "outputs": [
    {
     "data": {
      "text/plain": [
       "1.0"
      ]
     },
     "execution_count": 24,
     "metadata": {},
     "output_type": "execute_result"
    }
   ],
   "source": [
    "LinearReg(df, df.columns).compute_r2_score()"
   ]
  },
  {
   "cell_type": "markdown",
   "metadata": {},
   "source": [
    "Wait a minute, $R^2$ is always going up as we keep adding features? \n",
    "\n",
    "This is one drawback of only using $R^2$ to evaluate your model. Adding predictors will always improve the predictive ability of your model, though it may not be meaningful.\n",
    "\n",
    "That is to say, we are not necessarily interested in making a perfect prediciton of our data. If we were, we would always use all of the predictors available. Rather, we are interested in the most predictive features, in the hopes that we can create a simpler model that performs nearly as well.\n",
    "\n",
    "This is why we consider another metric, Adjusted R2.\n",
    "The adjusted R-squared increases only if the new term improves the model more than would be expected by chance.\n",
    "Using Adjusted R2 score, please give the most relevant combination of predictors in determining the profit of the startup.\n",
    "\n",
    "\n",
    "$AdjustedR^2$ = $1 - \\dfrac{(1-R^2)(n-1)}{(n-k-1)}$<br/>\n",
    "where:<br/>\n",
    "n = number of samples<br/>\n",
    "k = number of features\n",
    "\n",
    "Fill in the code for calculation of adjusted R2 score in calculate_adjusted_r2 in regression_utils.py"
   ]
  },
  {
   "cell_type": "code",
   "execution_count": 25,
   "metadata": {},
   "outputs": [],
   "source": [
    "from regression_utils import calculate_adjusted_r2"
   ]
  },
  {
   "cell_type": "markdown",
   "metadata": {},
   "source": [
    "#### Adjusted R2 score for model with \"R&D Spend\" as predictor and \"Profit\" as outcome"
   ]
  },
  {
   "cell_type": "code",
   "execution_count": 26,
   "metadata": {},
   "outputs": [
    {
     "data": {
      "text/plain": [
       "0.9454214684987817"
      ]
     },
     "execution_count": 26,
     "metadata": {},
     "output_type": "execute_result"
    }
   ],
   "source": [
    "LinearReg(df, ['R&D Spend']).compute_adjusted_r2_score()"
   ]
  },
  {
   "cell_type": "markdown",
   "metadata": {},
   "source": [
    "#### Adjusted R2 score for model with \"R&D Spend\",\"Marketing Spend\" as predictors and \"Profit\" as outcome"
   ]
  },
  {
   "cell_type": "code",
   "execution_count": 27,
   "metadata": {},
   "outputs": [
    {
     "data": {
      "text/plain": [
       "0.9483418037498477"
      ]
     },
     "execution_count": 27,
     "metadata": {},
     "output_type": "execute_result"
    }
   ],
   "source": [
    "LinearReg(df, ['R&D Spend', 'Marketing Spend']).compute_adjusted_r2_score()"
   ]
  },
  {
   "cell_type": "markdown",
   "metadata": {},
   "source": [
    "#### Adjusted R2 score for model with \"R&D Spend\",\"Marketing Spend\",\"Administration\" as predictors and \"Profit\" as outcome"
   ]
  },
  {
   "cell_type": "code",
   "execution_count": 28,
   "metadata": {},
   "outputs": [
    {
     "data": {
      "text/plain": [
       "0.9475337762901719"
      ]
     },
     "execution_count": 28,
     "metadata": {},
     "output_type": "execute_result"
    }
   ],
   "source": [
    "LinearReg(df, ['R&D Spend', 'Marketing Spend', 'Administration']).compute_adjusted_r2_score()"
   ]
  },
  {
   "cell_type": "markdown",
   "metadata": {},
   "source": [
    "#### Adjusted R2 score for model with \"R&D Spend\",\"Marketing Spend\",\"Administration\",\"State\" as predictors and \"Profit\" as outcome\n"
   ]
  },
  {
   "cell_type": "code",
   "execution_count": 29,
   "metadata": {},
   "outputs": [
    {
     "data": {
      "text/plain": [
       "1.0"
      ]
     },
     "execution_count": 29,
     "metadata": {},
     "output_type": "execute_result"
    }
   ],
   "source": [
    "LinearReg(df, df.columns).compute_adjusted_r2_score()"
   ]
  },
  {
   "cell_type": "markdown",
   "metadata": {},
   "source": [
    "Q15. Using the above Adjusted R2 scores, the combination with the highest Adjusted R2 score is associated with the model built with most relevant predictors. Note down the most relevant combination of predictors in predicting the profit of the startup."
   ]
  },
  {
   "cell_type": "markdown",
   "metadata": {},
   "source": [
    "Ans - Through the outputs, we can see that it is more effecient to just use the **R&D Spend** feature as it performs much better than all the other models (while looking at the adjusted r2 score). If we do not have any restrictions with applying as many features as we want, we could consider applying all as they all have a linear relationship but that might lead to some problems later on such. Therefore, it is much better to just apply a single feature, than all of them combined."
   ]
  },
  {
   "cell_type": "code",
   "execution_count": null,
   "metadata": {},
   "outputs": [],
   "source": []
  }
 ],
 "metadata": {
  "kernelspec": {
   "display_name": "Python 3",
   "language": "python",
   "name": "python3"
  },
  "language_info": {
   "codemirror_mode": {
    "name": "ipython",
    "version": 3
   },
   "file_extension": ".py",
   "mimetype": "text/x-python",
   "name": "python",
   "nbconvert_exporter": "python",
   "pygments_lexer": "ipython3",
   "version": "3.6.9"
  }
 },
 "nbformat": 4,
 "nbformat_minor": 2
}
